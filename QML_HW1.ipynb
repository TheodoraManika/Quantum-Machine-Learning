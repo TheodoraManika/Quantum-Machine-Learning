{
  "nbformat": 4,
  "nbformat_minor": 0,
  "metadata": {
    "colab": {
      "provenance": [],
      "collapsed_sections": [
        "OzTkOjmvqHyC"
      ]
    },
    "kernelspec": {
      "name": "python3",
      "display_name": "Python 3"
    },
    "language_info": {
      "name": "python"
    }
  },
  "cells": [
    {
      "cell_type": "markdown",
      "source": [
        "# **Εργασία 1 Κβαντική Μηχανική Μάθηση**\n",
        "Ονοματεπώνυμο: Μανίκα Θεοδώρα\n",
        "\n",
        "ΑΜ: 1115202100267"
      ],
      "metadata": {
        "id": "GoiUP_7U5IfK"
      }
    },
    {
      "cell_type": "markdown",
      "source": [
        "# Download libraries"
      ],
      "metadata": {
        "id": "OzTkOjmvqHyC"
      }
    },
    {
      "cell_type": "code",
      "source": [
        "!pip install qiskit"
      ],
      "metadata": {
        "colab": {
          "base_uri": "https://localhost:8080/"
        },
        "id": "pYJ8T46Mmyup",
        "outputId": "4435137b-0347-4d99-a572-6b9a9a3d0720"
      },
      "execution_count": null,
      "outputs": [
        {
          "output_type": "stream",
          "name": "stdout",
          "text": [
            "Requirement already satisfied: qiskit in /usr/local/lib/python3.11/dist-packages (2.0.2)\n",
            "Requirement already satisfied: rustworkx>=0.15.0 in /usr/local/lib/python3.11/dist-packages (from qiskit) (0.16.0)\n",
            "Requirement already satisfied: numpy<3,>=1.17 in /usr/local/lib/python3.11/dist-packages (from qiskit) (2.0.2)\n",
            "Requirement already satisfied: scipy>=1.5 in /usr/local/lib/python3.11/dist-packages (from qiskit) (1.15.3)\n",
            "Requirement already satisfied: sympy>=1.3 in /usr/local/lib/python3.11/dist-packages (from qiskit) (1.13.1)\n",
            "Requirement already satisfied: dill>=0.3 in /usr/local/lib/python3.11/dist-packages (from qiskit) (0.3.7)\n",
            "Requirement already satisfied: python-dateutil>=2.8.0 in /usr/local/lib/python3.11/dist-packages (from qiskit) (2.9.0.post0)\n",
            "Requirement already satisfied: stevedore>=3.0.0 in /usr/local/lib/python3.11/dist-packages (from qiskit) (5.4.1)\n",
            "Requirement already satisfied: typing-extensions in /usr/local/lib/python3.11/dist-packages (from qiskit) (4.13.2)\n",
            "Requirement already satisfied: symengine<0.14,>=0.11 in /usr/local/lib/python3.11/dist-packages (from qiskit) (0.13.0)\n",
            "Requirement already satisfied: six>=1.5 in /usr/local/lib/python3.11/dist-packages (from python-dateutil>=2.8.0->qiskit) (1.17.0)\n",
            "Requirement already satisfied: pbr>=2.0.0 in /usr/local/lib/python3.11/dist-packages (from stevedore>=3.0.0->qiskit) (6.1.1)\n",
            "Requirement already satisfied: mpmath<1.4,>=1.1.0 in /usr/local/lib/python3.11/dist-packages (from sympy>=1.3->qiskit) (1.3.0)\n",
            "Requirement already satisfied: setuptools in /usr/local/lib/python3.11/dist-packages (from pbr>=2.0.0->stevedore>=3.0.0->qiskit) (75.2.0)\n"
          ]
        }
      ]
    },
    {
      "cell_type": "code",
      "source": [
        "!pip install qiskit-aer"
      ],
      "metadata": {
        "colab": {
          "base_uri": "https://localhost:8080/"
        },
        "id": "mblReFMJnYbG",
        "outputId": "ebe62cc0-00e3-41fc-a6a6-c272b980ffce"
      },
      "execution_count": null,
      "outputs": [
        {
          "output_type": "stream",
          "name": "stdout",
          "text": [
            "Collecting qiskit-aer\n",
            "  Downloading qiskit_aer-0.17.1-cp311-cp311-manylinux_2_17_x86_64.manylinux2014_x86_64.whl.metadata (8.3 kB)\n",
            "Collecting qiskit>=1.1.0 (from qiskit-aer)\n",
            "  Downloading qiskit-2.0.2-cp39-abi3-manylinux_2_17_x86_64.manylinux2014_x86_64.whl.metadata (12 kB)\n",
            "Requirement already satisfied: numpy>=1.16.3 in /usr/local/lib/python3.11/dist-packages (from qiskit-aer) (2.0.2)\n",
            "Requirement already satisfied: scipy>=1.0 in /usr/local/lib/python3.11/dist-packages (from qiskit-aer) (1.15.3)\n",
            "Requirement already satisfied: psutil>=5 in /usr/local/lib/python3.11/dist-packages (from qiskit-aer) (5.9.5)\n",
            "Requirement already satisfied: python-dateutil>=2.8.0 in /usr/local/lib/python3.11/dist-packages (from qiskit-aer) (2.9.0.post0)\n",
            "Requirement already satisfied: six>=1.5 in /usr/local/lib/python3.11/dist-packages (from python-dateutil>=2.8.0->qiskit-aer) (1.17.0)\n",
            "Collecting rustworkx>=0.15.0 (from qiskit>=1.1.0->qiskit-aer)\n",
            "  Downloading rustworkx-0.16.0-cp39-abi3-manylinux_2_17_x86_64.manylinux2014_x86_64.whl.metadata (10 kB)\n",
            "Requirement already satisfied: sympy>=1.3 in /usr/local/lib/python3.11/dist-packages (from qiskit>=1.1.0->qiskit-aer) (1.13.1)\n",
            "Requirement already satisfied: dill>=0.3 in /usr/local/lib/python3.11/dist-packages (from qiskit>=1.1.0->qiskit-aer) (0.3.7)\n",
            "Collecting stevedore>=3.0.0 (from qiskit>=1.1.0->qiskit-aer)\n",
            "  Downloading stevedore-5.4.1-py3-none-any.whl.metadata (2.3 kB)\n",
            "Requirement already satisfied: typing-extensions in /usr/local/lib/python3.11/dist-packages (from qiskit>=1.1.0->qiskit-aer) (4.14.0)\n",
            "Collecting symengine<0.14,>=0.11 (from qiskit>=1.1.0->qiskit-aer)\n",
            "  Downloading symengine-0.13.0-cp311-cp311-manylinux_2_17_x86_64.manylinux2014_x86_64.whl.metadata (1.2 kB)\n",
            "Collecting pbr>=2.0.0 (from stevedore>=3.0.0->qiskit>=1.1.0->qiskit-aer)\n",
            "  Downloading pbr-6.1.1-py2.py3-none-any.whl.metadata (3.4 kB)\n",
            "Requirement already satisfied: mpmath<1.4,>=1.1.0 in /usr/local/lib/python3.11/dist-packages (from sympy>=1.3->qiskit>=1.1.0->qiskit-aer) (1.3.0)\n",
            "Requirement already satisfied: setuptools in /usr/local/lib/python3.11/dist-packages (from pbr>=2.0.0->stevedore>=3.0.0->qiskit>=1.1.0->qiskit-aer) (75.2.0)\n",
            "Downloading qiskit_aer-0.17.1-cp311-cp311-manylinux_2_17_x86_64.manylinux2014_x86_64.whl (12.4 MB)\n",
            "\u001b[2K   \u001b[90m━━━━━━━━━━━━━━━━━━━━━━━━━━━━━━━━━━━━━━━━\u001b[0m \u001b[32m12.4/12.4 MB\u001b[0m \u001b[31m59.0 MB/s\u001b[0m eta \u001b[36m0:00:00\u001b[0m\n",
            "\u001b[?25hDownloading qiskit-2.0.2-cp39-abi3-manylinux_2_17_x86_64.manylinux2014_x86_64.whl (6.5 MB)\n",
            "\u001b[2K   \u001b[90m━━━━━━━━━━━━━━━━━━━━━━━━━━━━━━━━━━━━━━━━\u001b[0m \u001b[32m6.5/6.5 MB\u001b[0m \u001b[31m63.9 MB/s\u001b[0m eta \u001b[36m0:00:00\u001b[0m\n",
            "\u001b[?25hDownloading rustworkx-0.16.0-cp39-abi3-manylinux_2_17_x86_64.manylinux2014_x86_64.whl (2.1 MB)\n",
            "\u001b[2K   \u001b[90m━━━━━━━━━━━━━━━━━━━━━━━━━━━━━━━━━━━━━━━━\u001b[0m \u001b[32m2.1/2.1 MB\u001b[0m \u001b[31m40.8 MB/s\u001b[0m eta \u001b[36m0:00:00\u001b[0m\n",
            "\u001b[?25hDownloading stevedore-5.4.1-py3-none-any.whl (49 kB)\n",
            "\u001b[2K   \u001b[90m━━━━━━━━━━━━━━━━━━━━━━━━━━━━━━━━━━━━━━━━\u001b[0m \u001b[32m49.5/49.5 kB\u001b[0m \u001b[31m3.2 MB/s\u001b[0m eta \u001b[36m0:00:00\u001b[0m\n",
            "\u001b[?25hDownloading symengine-0.13.0-cp311-cp311-manylinux_2_17_x86_64.manylinux2014_x86_64.whl (49.7 MB)\n",
            "\u001b[2K   \u001b[90m━━━━━━━━━━━━━━━━━━━━━━━━━━━━━━━━━━━━━━━━\u001b[0m \u001b[32m49.7/49.7 MB\u001b[0m \u001b[31m15.5 MB/s\u001b[0m eta \u001b[36m0:00:00\u001b[0m\n",
            "\u001b[?25hDownloading pbr-6.1.1-py2.py3-none-any.whl (108 kB)\n",
            "\u001b[2K   \u001b[90m━━━━━━━━━━━━━━━━━━━━━━━━━━━━━━━━━━━━━━━━\u001b[0m \u001b[32m109.0/109.0 kB\u001b[0m \u001b[31m5.4 MB/s\u001b[0m eta \u001b[36m0:00:00\u001b[0m\n",
            "\u001b[?25hInstalling collected packages: symengine, rustworkx, pbr, stevedore, qiskit, qiskit-aer\n",
            "Successfully installed pbr-6.1.1 qiskit-2.0.2 qiskit-aer-0.17.1 rustworkx-0.16.0 stevedore-5.4.1 symengine-0.13.0\n"
          ]
        }
      ]
    },
    {
      "cell_type": "code",
      "source": [
        "from qiskit import QuantumCircuit\n",
        "from qiskit_aer.primitives import SamplerV2\n",
        "from qiskit.quantum_info import Statevector\n",
        "from qiskit.circuit import ParameterVector\n",
        "from qiskit.circuit.library import ZFeatureMap\n",
        "import numpy as np"
      ],
      "metadata": {
        "id": "nn9oUTmexzex"
      },
      "execution_count": null,
      "outputs": []
    },
    {
      "cell_type": "markdown",
      "source": [
        "# 1. Encoding on the basis of qubit states"
      ],
      "metadata": {
        "id": "HONZU6KqqSGo"
      }
    },
    {
      "source": [
        "# Create the 3-qubit circuit\n",
        "qc = QuantumCircuit(3)\n",
        "\n",
        "# Step 1: Hadamard on q0 to create superposition\n",
        "qc.h(0)\n",
        "\n",
        "# Step 2: CNOTs to entangle q1 and q2 with q0\n",
        "qc.cx(0, 1)  # q0 controls q1\n",
        "qc.cx(0, 2)  # q0 controls q2\n",
        "\n",
        "# Step 3: Second Hadamard on q0 to split the terms\n",
        "qc.h(0)\n",
        "\n",
        "print(qc)\n",
        "\n",
        "# Add measurements (optional but useful for verification)\n",
        "qc.measure_all()\n",
        "\n",
        "# Construct an ideal simulator with SamplerV2\n",
        "sampler = SamplerV2()\n",
        "job = sampler.run([qc], shots=128)  # Run 128 simulations\n",
        "\n",
        "# Get the results\n",
        "result_ideal = job.result()\n",
        "counts_ideal = result_ideal[0].data.meas.get_counts()\n",
        "\n",
        "print('Counts(ideal):', counts_ideal)"
      ],
      "cell_type": "code",
      "metadata": {
        "colab": {
          "base_uri": "https://localhost:8080/"
        },
        "id": "8jm8GHAEoVWr",
        "outputId": "d1a0e6e5-c976-408c-fc0f-50f4e9a00a60"
      },
      "execution_count": null,
      "outputs": [
        {
          "output_type": "stream",
          "name": "stdout",
          "text": [
            "     ┌───┐          ┌───┐\n",
            "q_0: ┤ H ├──■────■──┤ H ├\n",
            "     └───┘┌─┴─┐  │  └───┘\n",
            "q_1: ─────┤ X ├──┼───────\n",
            "          └───┘┌─┴─┐     \n",
            "q_2: ──────────┤ X ├─────\n",
            "               └───┘     \n",
            "Counts(ideal): {'001': 37, '000': 29, '110': 23, '111': 39}\n"
          ]
        }
      ]
    },
    {
      "cell_type": "markdown",
      "source": [
        "# 2. Encoding on the amplitude of qubit states"
      ],
      "metadata": {
        "id": "NfhotXq3Q4kz"
      }
    },
    {
      "cell_type": "code",
      "source": [
        "def encode_single_qubit(x, y):\n",
        "    # Normalize the vector\n",
        "    norm = np.sqrt(x**2 + y**2)\n",
        "    x_norm, y_norm = x/norm, y/norm\n",
        "\n",
        "    # Calculate rotation angle θ = 2*arccos(x)\n",
        "    theta = 2 * np.arccos(x_norm)\n",
        "\n",
        "    # Create circuit\n",
        "    qc = QuantumCircuit(1)\n",
        "    qc.ry(theta, 0)\n",
        "\n",
        "    # Get statevector\n",
        "    state = Statevector.from_instruction(qc)\n",
        "    return qc, state\n",
        "\n",
        "# Example usage\n",
        "x, y = 0.6, 0.8\n",
        "qc, state = encode_single_qubit(x, y)\n",
        "print(\"Circuit:\")\n",
        "print(qc.draw())\n",
        "print(\"\\nStatevector:\", state)"
      ],
      "metadata": {
        "colab": {
          "base_uri": "https://localhost:8080/"
        },
        "id": "b5_jZRMoRr0p",
        "outputId": "b5e4758e-36bb-4a1f-9230-74cbc97bc330"
      },
      "execution_count": null,
      "outputs": [
        {
          "output_type": "stream",
          "name": "stdout",
          "text": [
            "Circuit:\n",
            "   ┌────────────┐\n",
            "q: ┤ Ry(1.8546) ├\n",
            "   └────────────┘\n",
            "\n",
            "Statevector: Statevector([0.6+0.j, 0.8+0.j],\n",
            "            dims=(2,))\n"
          ]
        }
      ]
    },
    {
      "cell_type": "code",
      "source": [
        "def encode_two_qubits(x, y, z, w):\n",
        "    # Normalize the vector\n",
        "    norm = np.sqrt(x**2 + y**2 + z**2 + w**2)\n",
        "    x_norm, y_norm, z_norm, w_norm = x/norm, y/norm, z/norm, w/norm\n",
        "\n",
        "    # Calculate angles\n",
        "    theta1 = 2 * np.arccos(np.sqrt(x_norm**2 + y_norm**2))\n",
        "    theta2 = 2 * np.arctan2(y_norm, x_norm)\n",
        "    theta3 = 2 * np.arctan2(w_norm, z_norm)\n",
        "\n",
        "    # Create circuit\n",
        "    qc = QuantumCircuit(2)\n",
        "    qc.ry(theta1, 1)\n",
        "    qc.x(1)\n",
        "    qc.cry(theta2, 1, 0)\n",
        "    qc.x(1)\n",
        "    qc.cry(theta3, 1, 0)\n",
        "\n",
        "\n",
        "    # Get statevector\n",
        "    state = Statevector.from_instruction(qc)\n",
        "    return qc, state\n",
        "\n",
        "# Test with given vector\n",
        "x, y, z, w = 0.1, 0.2, 0.3, 0.927\n",
        "qc, state = encode_two_qubits(x, y, z, w)\n",
        "\n",
        "# Redefine the normalized variables in the global scope\n",
        "norm = np.sqrt(x**2 + y**2 + z**2 + w**2)\n",
        "x_norm, y_norm, z_norm, w_norm = x/norm, y/norm, z/norm, w/norm\n",
        "\n",
        "print(\"Circuit:\")\n",
        "print(qc.draw())\n",
        "print(\"\\nStatevector:\", state)"
      ],
      "metadata": {
        "colab": {
          "base_uri": "https://localhost:8080/"
        },
        "id": "YFDVKk8cR2cA",
        "outputId": "202c1d9e-70ae-47e0-a8bd-7672678d54b1"
      },
      "execution_count": null,
      "outputs": [
        {
          "output_type": "stream",
          "name": "stdout",
          "text": [
            "Circuit:\n",
            "                        ┌────────────┐     ┌────────────┐\n",
            "q_0: ───────────────────┤ Ry(2.2143) ├─────┤ Ry(2.5156) ├\n",
            "     ┌────────────┐┌───┐└─────┬──────┘┌───┐└─────┬──────┘\n",
            "q_1: ┤ Ry(2.6904) ├┤ X ├──────■───────┤ X ├──────■───────\n",
            "     └────────────┘└───┘              └───┘              \n",
            "\n",
            "Statevector: Statevector([0.10003357+0.j, 0.20006713+0.j, 0.3001007 +0.j,\n",
            "             0.92731117+0.j],\n",
            "            dims=(2, 2))\n"
          ]
        }
      ]
    },
    {
      "cell_type": "markdown",
      "source": [
        "# 3. Encoding on the time-evolution of qubit states"
      ],
      "metadata": {
        "id": "LnbiGlmPTq9n"
      }
    },
    {
      "cell_type": "code",
      "source": [
        "# Create parameterized circuit\n",
        "num_qubits = 4\n",
        "params = ParameterVector('θ', length=num_qubits)\n",
        "qc = QuantumCircuit(num_qubits)\n",
        "\n",
        "for i in range(2):\n",
        "    # First RX rotation layer\n",
        "    for qubit in range(num_qubits):\n",
        "        qc.rx(params[qubit], qubit)\n",
        "\n",
        "    # First entanglement layer (forward)\n",
        "    for qubit in range(num_qubits - 1):\n",
        "        qc.cx(qubit, qubit + 1)\n",
        "\n",
        "# Bind parameters\n",
        "input_vector = np.array([0.976, 2.303, 1.391, 2.028])\n",
        "hw_embedding = qc.assign_parameters(input_vector)\n",
        "\n",
        "print(\"HardwareEfficient EmbeddingRx:\")\n",
        "print(hw_embedding.draw(fold=-1))"
      ],
      "metadata": {
        "colab": {
          "base_uri": "https://localhost:8080/"
        },
        "id": "6A8CRqwoTvRZ",
        "outputId": "c428a567-6e9e-4663-e4da-2a7762f9fb29"
      },
      "execution_count": null,
      "outputs": [
        {
          "output_type": "stream",
          "name": "stdout",
          "text": [
            "HardwareEfficient EmbeddingRx:\n",
            "     ┌───────────┐     ┌───────────┐                                    \n",
            "q_0: ┤ Rx(0.976) ├──■──┤ Rx(0.976) ├───────────────────■────────────────\n",
            "     ├───────────┤┌─┴─┐└───────────┘┌───────────┐    ┌─┴─┐              \n",
            "q_1: ┤ Rx(2.303) ├┤ X ├──────■──────┤ Rx(2.303) ├────┤ X ├──────■───────\n",
            "     ├───────────┤└───┘    ┌─┴─┐    └───────────┘┌───┴───┴───┐┌─┴─┐     \n",
            "q_2: ┤ Rx(1.391) ├─────────┤ X ├──────────■──────┤ Rx(1.391) ├┤ X ├──■──\n",
            "     ├───────────┤         └───┘        ┌─┴─┐    ├───────────┤└───┘┌─┴─┐\n",
            "q_3: ┤ Rx(2.028) ├──────────────────────┤ X ├────┤ Rx(2.028) ├─────┤ X ├\n",
            "     └───────────┘                      └───┘    └───────────┘     └───┘\n"
          ]
        }
      ]
    },
    {
      "cell_type": "code",
      "source": [
        "# Create parameterized circuit\n",
        "num_qubits = 4\n",
        "params = ParameterVector('θ', length=num_qubits)\n",
        "qc = QuantumCircuit(num_qubits)\n",
        "\n",
        "for i in range(4):\n",
        "    qc.h(i)\n",
        "    qc.p(2 * params[i], i)\n",
        "    qc.h(i)\n",
        "    qc.p(2 * params[i], i)\n",
        "\n",
        "# Bind parameters\n",
        "input_vector = np.array([0.976, 2.303, 1.391, 2.028])\n",
        "zmap_embedding = qc.assign_parameters(input_vector)\n",
        "\n",
        "print(\"ZFeatureMap:\")\n",
        "print(zmap_embedding.draw(fold=-1))"
      ],
      "metadata": {
        "colab": {
          "base_uri": "https://localhost:8080/"
        },
        "id": "-lmS3_jywMdi",
        "outputId": "c3ad4f8f-5841-44c1-d4b2-bd32b3010c06"
      },
      "execution_count": null,
      "outputs": [
        {
          "output_type": "stream",
          "name": "stdout",
          "text": [
            "ZFeatureMap:\n",
            "     ┌───┐┌──────────┐┌───┐┌──────────┐\n",
            "q_0: ┤ H ├┤ P(1.952) ├┤ H ├┤ P(1.952) ├\n",
            "     ├───┤├──────────┤├───┤├──────────┤\n",
            "q_1: ┤ H ├┤ P(4.606) ├┤ H ├┤ P(4.606) ├\n",
            "     ├───┤├──────────┤├───┤├──────────┤\n",
            "q_2: ┤ H ├┤ P(2.782) ├┤ H ├┤ P(2.782) ├\n",
            "     ├───┤├──────────┤├───┤├──────────┤\n",
            "q_3: ┤ H ├┤ P(4.056) ├┤ H ├┤ P(4.056) ├\n",
            "     └───┘└──────────┘└───┘└──────────┘\n"
          ]
        }
      ]
    },
    {
      "cell_type": "code",
      "source": [
        "# Create ZFeatureMap with 4 features\n",
        "z_map = ZFeatureMap(feature_dimension=4, reps=1)\n",
        "\n",
        "# Bind parameters\n",
        "z_embedding = z_map.assign_parameters(input_vector)\n",
        "\n",
        "print(\"\\nZFeatureMap from qiskit:\")\n",
        "print(z_embedding.draw())"
      ],
      "metadata": {
        "colab": {
          "base_uri": "https://localhost:8080/"
        },
        "id": "C2N6f7B4T3ns",
        "outputId": "1e256a4f-0dc5-40da-b183-76b29a0a3742"
      },
      "execution_count": null,
      "outputs": [
        {
          "output_type": "stream",
          "name": "stdout",
          "text": [
            "\n",
            "ZFeatureMap Circuit:\n",
            "     ┌───────────────────────────────────────┐\n",
            "q_0: ┤0                                      ├\n",
            "     │                                       │\n",
            "q_1: ┤1                                      ├\n",
            "     │  ZFeatureMap(0.976,2.303,1.391,2.028) │\n",
            "q_2: ┤2                                      ├\n",
            "     │                                       │\n",
            "q_3: ┤3                                      ├\n",
            "     └───────────────────────────────────────┘\n"
          ]
        }
      ]
    },
    {
      "cell_type": "code",
      "source": [
        "def print_state(qc):\n",
        "    state = Statevector.from_instruction(qc)\n",
        "    print(\"Final state (first 4 terms):\")\n",
        "    print(np.round(state.data[:4], 3))\n",
        "\n",
        "print(\"\\nHardwareEfficient State:\")\n",
        "print_state(hw_embedding)\n",
        "\n",
        "print(\"\\nZFeatureMap State:\")\n",
        "print_state(zmap_embedding)\n",
        "\n",
        "print(\"\\nZFeatureMap State:\")\n",
        "print_state(z_embedding)"
      ],
      "metadata": {
        "colab": {
          "base_uri": "https://localhost:8080/"
        },
        "id": "uMgkqk5RT8vm",
        "outputId": "39740882-0191-45bc-efa6-9820f89c030a"
      },
      "execution_count": null,
      "outputs": [
        {
          "output_type": "stream",
          "name": "stdout",
          "text": [
            "\n",
            "HardwareEfficient State:\n",
            "Final state (first 4 terms):\n",
            "[ 0.206-0.151j -0.004-0.15j  -0.178+0.135j  0.238+0.141j]\n",
            "\n",
            "ZFeatureMap State:\n",
            "Final state (first 4 terms):\n",
            "[0.027+0.012j 0.031+0.031j 0.031+0.01j  0.038+0.031j]\n",
            "\n",
            "ZFeatureMap State:\n",
            "Final state (first 4 terms):\n",
            "[ 0.25 +0.j    -0.093+0.232j -0.027-0.249j  0.241+0.068j]\n"
          ]
        }
      ]
    }
  ]
}